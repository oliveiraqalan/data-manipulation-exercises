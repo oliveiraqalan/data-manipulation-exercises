{
  "nbformat": 4,
  "nbformat_minor": 0,
  "metadata": {
    "anaconda-cloud": {},
    "colab": {
      "name": "Exercicios_unidade_5_Manipulacao_de_Dados_Parte_02.ipynb",
      "provenance": []
    },
    "kernelspec": {
      "display_name": "Python 3",
      "language": "python",
      "name": "python3"
    },
    "language_info": {
      "codemirror_mode": {
        "name": "ipython",
        "version": 3
      },
      "file_extension": ".py",
      "mimetype": "text/x-python",
      "name": "python",
      "nbconvert_exporter": "python",
      "pygments_lexer": "ipython3",
      "version": "3.7.6"
    }
  },
  "cells": [
    {
      "cell_type": "markdown",
      "metadata": {
        "colab_type": "text",
        "id": "mG98ajLLNIjz"
      },
      "source": [
        "![](https://i.imgur.com/JsMvGnP.png)"
      ]
    },
    {
      "cell_type": "markdown",
      "metadata": {
        "colab_type": "text",
        "id": "7Ch5KPRpui-Q"
      },
      "source": [
        "\n",
        "## Exercícios de manipulação de dados - Parte 2"
      ]
    },
    {
      "cell_type": "markdown",
      "metadata": {
        "colab_type": "text",
        "id": "IscqV7Obui-R"
      },
      "source": [
        "Neste Jupyter notebook você irá resolver uma exercícios utilizando a linguagem Python e a biblioteca Pandas.\n",
        "\n",
        "Todos os datasets utilizados nos exercícios estão salvos na pasta **datasets**.\n",
        "\n",
        "Todo o seu código deve ser executado neste Jupyter Notebook. Por fim, se desejar, revise as respostas com o seu mentor."
      ]
    },
    {
      "cell_type": "markdown",
      "metadata": {
        "colab_type": "text",
        "id": "Trmht8Dfui-S"
      },
      "source": [
        "### Tarefa 1. Importe o dataset e salve os dados em um dataframe\n",
        "\n",
        "Os dados estão salvos no arquivo ***datasets/US_Crime_Rates_1960_2014.csv***.\n",
        "\n",
        "Este dataset contém dados de crimes ocorridos nos Estados Unidos no período de 1960 até 2014.\n",
        "\n",
        "Salve os dados em uma variável de nome *crime*."
      ]
    },
    {
      "cell_type": "code",
      "metadata": {
        "colab_type": "code",
        "id": "LN4JDdSjui-T",
        "colab": {}
      },
      "source": [
        "# Seu código\n",
        "import pandas as pd\n",
        "dados = pd.read_csv('https://raw.githubusercontent.com/oliveiraqalan/data-manipulation-exercises/master/datasets/US_Crime_Rates_1960_2014.csv',encoding='utf8')\n",
        "df = pd.DataFrame(dados)\n"
      ],
      "execution_count": 1,
      "outputs": []
    },
    {
      "cell_type": "markdown",
      "metadata": {
        "colab_type": "text",
        "id": "8F6IEdZsui-X"
      },
      "source": [
        "### Tarefa 2. Qual o tipo de dados em cada coluna?"
      ]
    },
    {
      "cell_type": "code",
      "metadata": {
        "colab_type": "code",
        "id": "guR3et-zui-Y",
        "colab": {
          "base_uri": "https://localhost:8080/",
          "height": 238
        },
        "outputId": "30a99a00-f580-4c70-deb2-c7b91f399a71"
      },
      "source": [
        "# Seu código\n",
        "df.dtypes"
      ],
      "execution_count": 2,
      "outputs": [
        {
          "output_type": "execute_result",
          "data": {
            "text/plain": [
              "Year                  int64\n",
              "Population            int64\n",
              "Total                 int64\n",
              "Violent               int64\n",
              "Property              int64\n",
              "Murder                int64\n",
              "Forcible_Rape         int64\n",
              "Robbery               int64\n",
              "Aggravated_assault    int64\n",
              "Burglary              int64\n",
              "Larceny_Theft         int64\n",
              "Vehicle_Theft         int64\n",
              "dtype: object"
            ]
          },
          "metadata": {
            "tags": []
          },
          "execution_count": 2
        }
      ]
    },
    {
      "cell_type": "markdown",
      "metadata": {
        "colab_type": "text",
        "id": "ZnhPRMhrui-c"
      },
      "source": [
        "### Tarefa 3. Converta o tipo de dado da coluna Year para o tipo datetime\n",
        "\n",
        "*Dica: procure na documentação da biblioteca como fazer tal conversão*"
      ]
    },
    {
      "cell_type": "code",
      "metadata": {
        "colab_type": "code",
        "id": "HAIM8iB3ui-d",
        "colab": {}
      },
      "source": [
        "# Seu código\n",
        "from datetime import date\n",
        "#df['Year'] = pd.to_datetime(df['Year'],format='%Y%m%d%H%M%S')\n",
        "#df['Year']= df['Year'].astype('datetime64')\n",
        "#df.Year = pd.to_datetime(df.Year, format = '%Y')\n",
        "#df['Year'].dt.year\n",
        "#df['Year'] = pd.to_datetime(df['Year'].astype(str),format='%Y%m%d%H%M%S')\n",
        "#df['Year']"
      ],
      "execution_count": 3,
      "outputs": []
    },
    {
      "cell_type": "markdown",
      "metadata": {
        "colab_type": "text",
        "id": "wUMLk49Wui-h"
      },
      "source": [
        "### Tarefa 4. Configure a coluna Year como index do DataFrame.\n",
        "\n",
        "*Dica: use a função set_index() do Pandas* "
      ]
    },
    {
      "cell_type": "code",
      "metadata": {
        "colab_type": "code",
        "id": "6n-r6P4jui-i",
        "colab": {}
      },
      "source": [
        "# Seu código\n",
        "df.set_index('Year',inplace=True)\n",
        "#df.reset_index(inplace=True)\n",
        "df\n",
        "\n"
      ],
      "execution_count": null,
      "outputs": []
    },
    {
      "cell_type": "markdown",
      "metadata": {
        "colab_type": "text",
        "id": "J-osqYpUui-l"
      },
      "source": [
        "### Tarefa 5. Remova a coluna Total do DataFrame."
      ]
    },
    {
      "cell_type": "code",
      "metadata": {
        "colab_type": "code",
        "id": "td1aqCVrui-m",
        "colab": {}
      },
      "source": [
        "# Seu código\n",
        "df = df.drop(columns=['Total'])\n",
        "#df = df.drop(['Total'], axis=1)\n",
        "df"
      ],
      "execution_count": null,
      "outputs": []
    },
    {
      "cell_type": "markdown",
      "metadata": {
        "colab_type": "text",
        "id": "sNRpI3snDwZ7"
      },
      "source": [
        "### Tarefa 6. Encontre o número de roubos de carro do ano de 1978."
      ]
    },
    {
      "cell_type": "code",
      "metadata": {
        "colab_type": "code",
        "id": "iCHYwMqLECpl",
        "colab": {
          "base_uri": "https://localhost:8080/",
          "height": 128
        },
        "outputId": "86dec767-60f2-4f4d-998a-2a97d4f3b0da"
      },
      "source": [
        "# Seu código\n",
        "df.loc[[int(input('Digite o ano selecionado:'))]][['Vehicle_Theft']]"
      ],
      "execution_count": 26,
      "outputs": [
        {
          "output_type": "stream",
          "text": [
            "Digite o ano selecionado:1978\n"
          ],
          "name": "stdout"
        },
        {
          "output_type": "execute_result",
          "data": {
            "text/html": [
              "<div>\n",
              "<style scoped>\n",
              "    .dataframe tbody tr th:only-of-type {\n",
              "        vertical-align: middle;\n",
              "    }\n",
              "\n",
              "    .dataframe tbody tr th {\n",
              "        vertical-align: top;\n",
              "    }\n",
              "\n",
              "    .dataframe thead th {\n",
              "        text-align: right;\n",
              "    }\n",
              "</style>\n",
              "<table border=\"1\" class=\"dataframe\">\n",
              "  <thead>\n",
              "    <tr style=\"text-align: right;\">\n",
              "      <th></th>\n",
              "      <th>Vehicle_Theft</th>\n",
              "    </tr>\n",
              "    <tr>\n",
              "      <th>Year</th>\n",
              "      <th></th>\n",
              "    </tr>\n",
              "  </thead>\n",
              "  <tbody>\n",
              "    <tr>\n",
              "      <th>1978</th>\n",
              "      <td>1004100</td>\n",
              "    </tr>\n",
              "  </tbody>\n",
              "</table>\n",
              "</div>"
            ],
            "text/plain": [
              "      Vehicle_Theft\n",
              "Year               \n",
              "1978        1004100"
            ]
          },
          "metadata": {
            "tags": []
          },
          "execution_count": 26
        }
      ]
    },
    {
      "cell_type": "markdown",
      "metadata": {
        "colab_type": "text",
        "id": "EAlbLVK2ui-q"
      },
      "source": [
        "### Tarefa 7. Retorne a linha do ano em que houve o maior número de assasinatos. \n",
        "\n",
        "*Dica: use a coluna Murder como referência.*"
      ]
    },
    {
      "cell_type": "code",
      "metadata": {
        "colab_type": "code",
        "id": "GpIqR-6vui-s",
        "colab": {}
      },
      "source": [
        "# Seu código"
      ],
      "execution_count": 7,
      "outputs": []
    },
    {
      "cell_type": "markdown",
      "metadata": {
        "colab_type": "text",
        "id": "L7bit-TcEGMm"
      },
      "source": [
        "### Tarefa 8. Retorne o número de assassinatos do ano em que foi registrado o menor número de roubo de carros. \n"
      ]
    },
    {
      "cell_type": "code",
      "metadata": {
        "colab_type": "code",
        "id": "KAz9sW1oEVeK",
        "colab": {}
      },
      "source": [
        "# Seu código"
      ],
      "execution_count": 8,
      "outputs": []
    },
    {
      "cell_type": "markdown",
      "metadata": {
        "colab_type": "text",
        "id": "E0RnhuuMEWsw"
      },
      "source": [
        "**Parabéns! Você chegou ao fim**"
      ]
    }
  ]
}